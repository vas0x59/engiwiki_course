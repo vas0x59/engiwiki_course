{
 "cells": [
  {
   "cell_type": "code",
   "execution_count": 2,
   "metadata": {},
   "outputs": [],
   "source": [
    "import numpy as np\n",
    "from typing import *"
   ]
  },
  {
   "cell_type": "code",
   "execution_count": 42,
   "metadata": {},
   "outputs": [],
   "source": [
    "a = [[1, 2, 3], [0, 4, 5], [1, 0, 6]]\n",
    "a2 = [[1, 2, 3, 7], [.213, 4, 5, 34], [1, 2,5, -6846], [1, 496846, 6, 846]]"
   ]
  },
  {
   "cell_type": "code",
   "execution_count": 13,
   "metadata": {},
   "outputs": [],
   "source": [
    "def mul(a, b: List[List]):\n",
    "    return [[a * b[i][j] for j in range(len(b[i]))] for i in range(len(b))]"
   ]
  },
  {
   "cell_type": "code",
   "execution_count": 14,
   "metadata": {},
   "outputs": [],
   "source": [
    "def determinant_2_2(a: List[List]):\n",
    "    y = a[0][0]*a[1][1] - a[0][1]*a[1][0]\n",
    "    return y"
   ]
  },
  {
   "cell_type": "code",
   "execution_count": 15,
   "metadata": {},
   "outputs": [
    {
     "data": {
      "text/plain": [
       "-2"
      ]
     },
     "execution_count": 15,
     "metadata": {},
     "output_type": "execute_result"
    }
   ],
   "source": [
    "determinant_2_2([[1, 2], [3, 4]])"
   ]
  },
  {
   "cell_type": "code",
   "execution_count": 36,
   "metadata": {},
   "outputs": [],
   "source": [
    "def determinant_3_3(a: List[List]):\n",
    "    ans = 0\n",
    "    for i1 in range(3):\n",
    "        z = a[0][i1]\n",
    "        y = 0\n",
    "        if i1 == 0:\n",
    "            y = determinant_2_2(list(map(lambda x: x[1:], a[1:])))\n",
    "        elif i1 == 1:\n",
    "            y = -determinant_2_2(list(map(lambda x: x[0:3:2], a[1:])))\n",
    "        elif i1 == 2:\n",
    "            y = determinant_2_2(list(map(lambda x: x[:1+1], a[1:])))\n",
    "        ans += y*z\n",
    "    return ans"
   ]
  },
  {
   "cell_type": "code",
   "execution_count": 17,
   "metadata": {},
   "outputs": [],
   "source": [
    "def transpose(a: List[List]):\n",
    "    b = [[0 for _ in range(len(a))] for __ in range(len(a[0]))]\n",
    "    for i in range(len(a)):\n",
    "        for j in range(len(a[i])):\n",
    "            b[j][i] = a[i][j]\n",
    "    return b"
   ]
  },
  {
   "cell_type": "code",
   "execution_count": 18,
   "metadata": {},
   "outputs": [
    {
     "data": {
      "text/plain": [
       "[[1, 0, 1], [2, 4, 0], [3, 5, 6]]"
      ]
     },
     "execution_count": 18,
     "metadata": {},
     "output_type": "execute_result"
    }
   ],
   "source": [
    "transpose(a)"
   ]
  },
  {
   "cell_type": "code",
   "execution_count": 32,
   "metadata": {},
   "outputs": [],
   "source": [
    "def determinant_any_sq(a: List[List]):\n",
    "    if len(a) == 1:\n",
    "        return a[0][0]\n",
    "    elif len(a) == 2:\n",
    "        return determinant_2_2(a)\n",
    "    else:\n",
    "        ans = 0\n",
    "        for j1 in range(len(a)):\n",
    "            to_det_i_range = list(set(range(0, len(a))) - {0})\n",
    "            to_det_j_range = list(set(range(0, len(a[0]))) - {j1})\n",
    "            z = a[0][j1]\n",
    "            to_det = [[a[ii][jj] for jj in to_det_j_range] for ii in to_det_i_range]\n",
    "            det = determinant_any_sq(to_det)\n",
    "            if j1 % 2 == 1:\n",
    "                det *= -1\n",
    "            ans += det*z\n",
    "        return ans"
   ]
  },
  {
   "cell_type": "code",
   "execution_count": 28,
   "metadata": {},
   "outputs": [],
   "source": [
    "def inv_3_3(a: List[List]):\n",
    "    b = [[0 for _ in range(len(a[0]))] for __ in range(len(a))]\n",
    "    for i in range(len(a)):\n",
    "        for j in range(len(a[i])):\n",
    "            to_det_i_range = list(set(range(0, len(a))) - {i})\n",
    "            to_det_j_range = list(set(range(0, len(a[i]))) - {j})\n",
    "            to_det_i_range.sort();to_det_j_range.sort()\n",
    "            to_det = [[a[ii][jj] for jj in to_det_j_range] for ii in to_det_i_range]\n",
    "            det = determinant_2_2(to_det)\n",
    "            if (i == 1) ^ (j == 1):\n",
    "                det*=-1\n",
    "            b[i][j] = det\n",
    "    return mul(1.0/determinant_3_3(a), transpose(b))"
   ]
  },
  {
   "cell_type": "code",
   "execution_count": null,
   "metadata": {},
   "outputs": [],
   "source": []
  },
  {
   "cell_type": "code",
   "execution_count": 21,
   "metadata": {},
   "outputs": [
    {
     "data": {
      "text/plain": [
       "True"
      ]
     },
     "execution_count": 21,
     "metadata": {},
     "output_type": "execute_result"
    }
   ],
   "source": [
    "i = 2\n",
    "j = 1\n",
    "(i == 1) ^ (j == 1)"
   ]
  },
  {
   "cell_type": "code",
   "execution_count": 43,
   "metadata": {},
   "outputs": [
    {
     "data": {
      "text/plain": [
       "-14880870823.606"
      ]
     },
     "execution_count": 43,
     "metadata": {},
     "output_type": "execute_result"
    }
   ],
   "source": [
    "determinant_any_sq(a2)"
   ]
  },
  {
   "cell_type": "code",
   "execution_count": 44,
   "metadata": {},
   "outputs": [
    {
     "data": {
      "text/plain": [
       "-14880870823.606"
      ]
     },
     "execution_count": 44,
     "metadata": {},
     "output_type": "execute_result"
    }
   ],
   "source": [
    "np.linalg.det(a2)"
   ]
  },
  {
   "cell_type": "code",
   "execution_count": 37,
   "metadata": {},
   "outputs": [
    {
     "data": {
      "text/plain": [
       "22"
      ]
     },
     "execution_count": 37,
     "metadata": {},
     "output_type": "execute_result"
    }
   ],
   "source": [
    "determinant_3_3(a)"
   ]
  },
  {
   "cell_type": "code",
   "execution_count": 23,
   "metadata": {},
   "outputs": [
    {
     "data": {
      "text/plain": [
       "22.000000000000004"
      ]
     },
     "execution_count": 23,
     "metadata": {},
     "output_type": "execute_result"
    }
   ],
   "source": [
    "np.linalg.det(np.array(a))"
   ]
  },
  {
   "cell_type": "code",
   "execution_count": 25,
   "metadata": {},
   "outputs": [
    {
     "data": {
      "text/plain": [
       "[[0, 2], [-1, 1]]"
      ]
     },
     "execution_count": 25,
     "metadata": {},
     "output_type": "execute_result"
    }
   ],
   "source": [
    "list(map(lambda x: x[1:], a[:1+1]))"
   ]
  },
  {
   "cell_type": "code",
   "execution_count": 33,
   "metadata": {},
   "outputs": [
    {
     "data": {
      "text/plain": [
       "[[2, 1], [1, -1]]"
      ]
     },
     "execution_count": 33,
     "metadata": {},
     "output_type": "execute_result"
    }
   ],
   "source": [
    "list(map(lambda x: x[0:3:2], a[1:]))"
   ]
  },
  {
   "cell_type": "code",
   "execution_count": 35,
   "metadata": {},
   "outputs": [
    {
     "data": {
      "text/plain": [
       "[[2, -1], [1, 3]]"
      ]
     },
     "execution_count": 35,
     "metadata": {},
     "output_type": "execute_result"
    }
   ],
   "source": [
    "list(map(lambda x: x[:1+1], a[1:]))"
   ]
  },
  {
   "cell_type": "code",
   "execution_count": 67,
   "metadata": {},
   "outputs": [
    {
     "data": {
      "text/plain": [
       "array([[ 1.09090909, -0.54545455, -0.09090909],\n",
       "       [ 0.22727273,  0.13636364, -0.22727273],\n",
       "       [-0.18181818,  0.09090909,  0.18181818]])"
      ]
     },
     "execution_count": 67,
     "metadata": {},
     "output_type": "execute_result"
    }
   ],
   "source": [
    "np.array(inv_3_3(a))"
   ]
  },
  {
   "cell_type": "code",
   "execution_count": 64,
   "metadata": {},
   "outputs": [
    {
     "data": {
      "text/plain": [
       "array([[ 1.09090909, -0.54545455, -0.09090909],\n",
       "       [ 0.22727273,  0.13636364, -0.22727273],\n",
       "       [-0.18181818,  0.09090909,  0.18181818]])"
      ]
     },
     "execution_count": 64,
     "metadata": {},
     "output_type": "execute_result"
    }
   ],
   "source": [
    "np.linalg.inv(np.array(a))"
   ]
  },
  {
   "cell_type": "code",
   "execution_count": 65,
   "metadata": {},
   "outputs": [
    {
     "data": {
      "text/plain": [
       "0.9999999999999999"
      ]
     },
     "execution_count": 65,
     "metadata": {},
     "output_type": "execute_result"
    }
   ],
   "source": [
    "determinant_3_3(a)*determinant_3_3(inv_3_3(a))"
   ]
  },
  {
   "cell_type": "code",
   "execution_count": 66,
   "metadata": {},
   "outputs": [
    {
     "data": {
      "text/plain": [
       "0.9999999999999999"
      ]
     },
     "execution_count": 66,
     "metadata": {},
     "output_type": "execute_result"
    }
   ],
   "source": [
    "np.linalg.det(np.array(a))*np.linalg.det(np.linalg.inv(np.array(a)))"
   ]
  },
  {
   "cell_type": "code",
   "execution_count": 47,
   "metadata": {},
   "outputs": [
    {
     "data": {
      "text/plain": [
       "12.000000000000005"
      ]
     },
     "execution_count": 47,
     "metadata": {},
     "output_type": "execute_result"
    }
   ],
   "source": [
    "np.linalg.det(np.array(a))"
   ]
  },
  {
   "cell_type": "code",
   "execution_count": 48,
   "metadata": {},
   "outputs": [
    {
     "data": {
      "text/plain": [
       "0.08333333333333329"
      ]
     },
     "execution_count": 48,
     "metadata": {},
     "output_type": "execute_result"
    }
   ],
   "source": [
    "np.linalg.det(np.linalg.inv(np.array(a)))"
   ]
  },
  {
   "cell_type": "code",
   "execution_count": 49,
   "metadata": {},
   "outputs": [
    {
     "data": {
      "text/plain": [
       "0.08333333333333331"
      ]
     },
     "execution_count": 49,
     "metadata": {},
     "output_type": "execute_result"
    }
   ],
   "source": [
    "determinant_3_3(np.linalg.inv(np.array(a)))"
   ]
  },
  {
   "cell_type": "code",
   "execution_count": 50,
   "metadata": {},
   "outputs": [
    {
     "data": {
      "text/plain": [
       "7.000000000000001"
      ]
     },
     "execution_count": 50,
     "metadata": {},
     "output_type": "execute_result"
    }
   ],
   "source": [
    "np.linalg.det(list(map(lambda x: x[:1+1], a[1:])))"
   ]
  },
  {
   "cell_type": "code",
   "execution_count": 51,
   "metadata": {},
   "outputs": [
    {
     "data": {
      "text/plain": [
       "7"
      ]
     },
     "execution_count": 51,
     "metadata": {},
     "output_type": "execute_result"
    }
   ],
   "source": [
    "determinant_2_2(list(map(lambda x: x[:1+1], a[1:])))"
   ]
  },
  {
   "cell_type": "code",
   "execution_count": null,
   "metadata": {},
   "outputs": [],
   "source": []
  },
  {
   "cell_type": "code",
   "execution_count": 45,
   "metadata": {},
   "outputs": [],
   "source": [
    "import math"
   ]
  },
  {
   "cell_type": "markdown",
   "metadata": {},
   "source": [
    "## Rotation "
   ]
  },
  {
   "cell_type": "code",
   "execution_count": 52,
   "metadata": {},
   "outputs": [],
   "source": [
    "def get_rotation_matrix(angle: float):\n",
    "    b = [[] for _ in range(2)]\n",
    "    b[0] = [math.cos(angle), -math.sin(angle)]\n",
    "    b[1] = [math.sin(angle), math.cos(angle)]\n",
    "    return b"
   ]
  },
  {
   "cell_type": "code",
   "execution_count": 67,
   "metadata": {},
   "outputs": [
    {
     "name": "stdout",
     "output_type": "stream",
     "text": [
      "[[-1. -1.]\n",
      " [-1. -2.]\n",
      " [-2. -2.]\n",
      " [-2. -1.]]\n"
     ]
    }
   ],
   "source": [
    "def dot(a: List[List], b: List[List]):\n",
    "    c = [[0 for j in range(len(b[0]))] for i in range(len(a))]\n",
    "    for i in range(len(a)):\n",
    "        for j in range(len(b[0])):\n",
    "            for i2 in range(len(a[0])):\n",
    "                c[i][j] += a[i][i2]*b[i2][j]\n",
    "    return c\n",
    "def add(a: List[List], b: List[List]):\n",
    "    return [[a[i][ii] + b[i][ii] for ii in range(len(a[i]))] for i in range(len(a))]\n",
    "def diff(a: List[List], b: List[List]):\n",
    "    return [[a[i][ii] - b[i][ii] for ii in range(len(a[i]))] for i in range(len(a))]\n",
    "\n",
    "\n",
    "def rotate_points(points, angle, origin_point):\n",
    "    points_mat = transpose([[p[0]-origin_point[0], p[1]-origin_point[1]] for p in points])\n",
    "    points_out = transpose(dot(get_rotation_matrix(angle), points_mat))\n",
    "    return [[p[0]+origin_point[0], p[1]+origin_point[1]] for p in points_out]\n",
    "\n",
    "print(np.array(rotate_points([[1, 1], [1, 2], [2, 2], [2, 1]], math.pi, [0.5, 0.5])))"
   ]
  },
  {
   "cell_type": "code",
   "execution_count": null,
   "metadata": {},
   "outputs": [],
   "source": []
  }
 ],
 "metadata": {
  "kernelspec": {
   "display_name": "Python 3",
   "language": "python",
   "name": "python3"
  },
  "language_info": {
   "codemirror_mode": {
    "name": "ipython",
    "version": 3
   },
   "file_extension": ".py",
   "mimetype": "text/x-python",
   "name": "python",
   "nbconvert_exporter": "python",
   "pygments_lexer": "ipython3",
   "version": "3.8.5"
  }
 },
 "nbformat": 4,
 "nbformat_minor": 4
}
