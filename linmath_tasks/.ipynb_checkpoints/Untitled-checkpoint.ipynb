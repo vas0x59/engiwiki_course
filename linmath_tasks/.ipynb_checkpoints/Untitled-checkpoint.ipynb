{
 "cells": [
  {
   "cell_type": "code",
   "execution_count": 1,
   "metadata": {},
   "outputs": [],
   "source": [
    "import numpy as np\n",
    "from typing import *"
   ]
  },
  {
   "cell_type": "code",
   "execution_count": 2,
   "metadata": {},
   "outputs": [],
   "source": [
    "a = [[1, 2, 3], [0, 4, 5], [1, 0, 6]]\n",
    "a2 = [[1, 2, 3, 7], [.213, 4, 5, 34], [1, 2,5, -6846], [1, 496846, 6, 846]]"
   ]
  },
  {
   "cell_type": "code",
   "execution_count": 3,
   "metadata": {},
   "outputs": [],
   "source": [
    "def mul(a, b: List[List]):\n",
    "    return [[a * b[i][j] for j in range(len(b[i]))] for i in range(len(b))]"
   ]
  },
  {
   "cell_type": "code",
   "execution_count": 4,
   "metadata": {},
   "outputs": [],
   "source": [
    "def determinant_2_2(a: List[List]):\n",
    "    y = a[0][0]*a[1][1] - a[0][1]*a[1][0]\n",
    "    return y"
   ]
  },
  {
   "cell_type": "code",
   "execution_count": 5,
   "metadata": {},
   "outputs": [
    {
     "data": {
      "text/plain": [
       "-2"
      ]
     },
     "execution_count": 5,
     "metadata": {},
     "output_type": "execute_result"
    }
   ],
   "source": [
    "determinant_2_2([[1, 2], [3, 4]])"
   ]
  },
  {
   "cell_type": "code",
   "execution_count": 6,
   "metadata": {},
   "outputs": [],
   "source": [
    "def determinant_3_3(a: List[List]):\n",
    "    ans = 0\n",
    "    for i1 in range(3):\n",
    "        z = a[0][i1]\n",
    "        y = 0\n",
    "        if i1 == 0:\n",
    "            y = determinant_2_2(list(map(lambda x: x[1:], a[1:])))\n",
    "        elif i1 == 1:\n",
    "            y = -determinant_2_2(list(map(lambda x: x[0:3:2], a[1:])))\n",
    "        elif i1 == 2:\n",
    "            y = determinant_2_2(list(map(lambda x: x[:1+1], a[1:])))\n",
    "        ans += y*z\n",
    "    return ans"
   ]
  },
  {
   "cell_type": "code",
   "execution_count": 7,
   "metadata": {},
   "outputs": [],
   "source": [
    "def transpose(a: List[List]) -> List[List]:\n",
    "    b = [[0 for _ in range(len(a))] for __ in range(len(a[0]))]\n",
    "    for i in range(len(a)):\n",
    "        for j in range(len(a[i])):\n",
    "            b[j][i] = a[i][j]\n",
    "    return b"
   ]
  },
  {
   "cell_type": "code",
   "execution_count": 8,
   "metadata": {},
   "outputs": [
    {
     "data": {
      "text/plain": [
       "[[1, 0, 1], [2, 4, 0], [3, 5, 6]]"
      ]
     },
     "execution_count": 8,
     "metadata": {},
     "output_type": "execute_result"
    }
   ],
   "source": [
    "transpose(a)"
   ]
  },
  {
   "cell_type": "code",
   "execution_count": 9,
   "metadata": {},
   "outputs": [],
   "source": [
    "def determinant_any_sq(a: List[List]) -> List[List]:\n",
    "    if len(a) == 1:\n",
    "        return a[0][0]\n",
    "    elif len(a) == 2:\n",
    "        return determinant_2_2(a)\n",
    "    else:\n",
    "        ans = 0\n",
    "        for j1 in range(len(a)):\n",
    "            to_det_i_range = list(set(range(0, len(a))) - {0})\n",
    "            to_det_j_range = list(set(range(0, len(a[0]))) - {j1})\n",
    "            z = a[0][j1]\n",
    "            to_det = [[a[ii][jj] for jj in to_det_j_range] for ii in to_det_i_range]\n",
    "            det = determinant_any_sq(to_det)\n",
    "            if j1 % 2 == 1:\n",
    "                det *= -1\n",
    "            ans += det*z\n",
    "        return ans"
   ]
  },
  {
   "cell_type": "code",
   "execution_count": 10,
   "metadata": {},
   "outputs": [],
   "source": [
    "def inv(a: List[List]) -> List[List]:\n",
    "    b = [[0 for _ in range(len(a[0]))] for __ in range(len(a))]\n",
    "    for i in range(len(a)):\n",
    "        for j in range(len(a[i])):\n",
    "            to_det_i_range = list(set(range(0, len(a))) - {i})\n",
    "            to_det_j_range = list(set(range(0, len(a[i]))) - {j})\n",
    "            to_det_i_range.sort();to_det_j_range.sort()\n",
    "            to_det = [[a[ii][jj] for jj in to_det_j_range] for ii in to_det_i_range]\n",
    "            det = determinant_any_sq(to_det)\n",
    "            if (i % 2 == 1) ^ (j % 2 == 1):\n",
    "                det*=-1\n",
    "            b[i][j] = det\n",
    "    return mul(1.0/determinant_any_sq(a), transpose(b))"
   ]
  },
  {
   "cell_type": "code",
   "execution_count": null,
   "metadata": {},
   "outputs": [],
   "source": []
  },
  {
   "cell_type": "code",
   "execution_count": 11,
   "metadata": {},
   "outputs": [
    {
     "data": {
      "text/plain": [
       "True"
      ]
     },
     "execution_count": 11,
     "metadata": {},
     "output_type": "execute_result"
    }
   ],
   "source": [
    "i = 2\n",
    "j = 1\n",
    "(i == 1) ^ (j == 1)"
   ]
  },
  {
   "cell_type": "code",
   "execution_count": 12,
   "metadata": {},
   "outputs": [
    {
     "name": "stdout",
     "output_type": "stream",
     "text": [
      "CPU times: user 158 µs, sys: 63 µs, total: 221 µs\n",
      "Wall time: 227 µs\n"
     ]
    },
    {
     "data": {
      "text/plain": [
       "-14880870823.606"
      ]
     },
     "execution_count": 12,
     "metadata": {},
     "output_type": "execute_result"
    }
   ],
   "source": [
    "%time determinant_any_sq(a2)"
   ]
  },
  {
   "cell_type": "code",
   "execution_count": 13,
   "metadata": {},
   "outputs": [
    {
     "name": "stdout",
     "output_type": "stream",
     "text": [
      "CPU times: user 196 µs, sys: 79 µs, total: 275 µs\n",
      "Wall time: 283 µs\n"
     ]
    },
    {
     "data": {
      "text/plain": [
       "-14880870823.606"
      ]
     },
     "execution_count": 13,
     "metadata": {},
     "output_type": "execute_result"
    }
   ],
   "source": [
    "%time np.linalg.det(a2)"
   ]
  },
  {
   "cell_type": "code",
   "execution_count": 14,
   "metadata": {},
   "outputs": [
    {
     "data": {
      "text/plain": [
       "22"
      ]
     },
     "execution_count": 14,
     "metadata": {},
     "output_type": "execute_result"
    }
   ],
   "source": [
    "determinant_3_3(a)"
   ]
  },
  {
   "cell_type": "code",
   "execution_count": 15,
   "metadata": {},
   "outputs": [
    {
     "data": {
      "text/plain": [
       "22.000000000000004"
      ]
     },
     "execution_count": 15,
     "metadata": {},
     "output_type": "execute_result"
    }
   ],
   "source": [
    "np.linalg.det(np.array(a))"
   ]
  },
  {
   "cell_type": "code",
   "execution_count": 16,
   "metadata": {},
   "outputs": [
    {
     "data": {
      "text/plain": [
       "[[2, 3], [4, 5]]"
      ]
     },
     "execution_count": 16,
     "metadata": {},
     "output_type": "execute_result"
    }
   ],
   "source": [
    "list(map(lambda x: x[1:], a[:1+1]))"
   ]
  },
  {
   "cell_type": "code",
   "execution_count": 17,
   "metadata": {},
   "outputs": [
    {
     "data": {
      "text/plain": [
       "[[0, 5], [1, 6]]"
      ]
     },
     "execution_count": 17,
     "metadata": {},
     "output_type": "execute_result"
    }
   ],
   "source": [
    "list(map(lambda x: x[0:3:2], a[1:]))"
   ]
  },
  {
   "cell_type": "code",
   "execution_count": 18,
   "metadata": {},
   "outputs": [
    {
     "data": {
      "text/plain": [
       "[[0, 4], [1, 0]]"
      ]
     },
     "execution_count": 18,
     "metadata": {},
     "output_type": "execute_result"
    }
   ],
   "source": [
    "list(map(lambda x: x[:1+1], a[1:]))"
   ]
  },
  {
   "cell_type": "code",
   "execution_count": 19,
   "metadata": {},
   "outputs": [
    {
     "data": {
      "text/plain": [
       "array([[ 1.14854362e+00, -6.86890388e-01, -2.23688186e-03,\n",
       "         9.15672218e-07],\n",
       "       [-1.93374584e-06, -1.49433459e-06,  2.39324166e-07,\n",
       "         2.01271494e-06],\n",
       "       [-4.98198083e-02,  2.28808648e-01,  1.08521223e-03,\n",
       "        -1.64591322e-06],\n",
       "       [ 1.31381932e-04,  6.67761996e-05, -1.45604783e-04,\n",
       "        -4.80348233e-10]])"
      ]
     },
     "execution_count": 19,
     "metadata": {},
     "output_type": "execute_result"
    }
   ],
   "source": [
    "np.array(inv(a2))"
   ]
  },
  {
   "cell_type": "code",
   "execution_count": 20,
   "metadata": {},
   "outputs": [
    {
     "data": {
      "text/plain": [
       "array([[ 1.14854362e+00, -6.86890388e-01, -2.23688186e-03,\n",
       "         9.15672218e-07],\n",
       "       [-1.93374584e-06, -1.49433459e-06,  2.39324166e-07,\n",
       "         2.01271494e-06],\n",
       "       [-4.98198083e-02,  2.28808648e-01,  1.08521223e-03,\n",
       "        -1.64591322e-06],\n",
       "       [ 1.31381932e-04,  6.67761996e-05, -1.45604783e-04,\n",
       "        -4.80348233e-10]])"
      ]
     },
     "execution_count": 20,
     "metadata": {},
     "output_type": "execute_result"
    }
   ],
   "source": [
    "np.linalg.inv(np.array(a2))"
   ]
  },
  {
   "cell_type": "code",
   "execution_count": 21,
   "metadata": {},
   "outputs": [
    {
     "name": "stdout",
     "output_type": "stream",
     "text": [
      "CPU times: user 2.94 ms, sys: 11.6 ms, total: 14.6 ms\n",
      "Wall time: 3.63 ms\n"
     ]
    },
    {
     "data": {
      "text/plain": [
       "0.9999999999999998"
      ]
     },
     "execution_count": 21,
     "metadata": {},
     "output_type": "execute_result"
    }
   ],
   "source": [
    "%time determinant_any_sq(a2)*determinant_any_sq(inv(a2))"
   ]
  },
  {
   "cell_type": "code",
   "execution_count": 22,
   "metadata": {},
   "outputs": [
    {
     "name": "stdout",
     "output_type": "stream",
     "text": [
      "CPU times: user 592 µs, sys: 260 µs, total: 852 µs\n",
      "Wall time: 335 µs\n"
     ]
    },
    {
     "data": {
      "text/plain": [
       "1.0"
      ]
     },
     "execution_count": 22,
     "metadata": {},
     "output_type": "execute_result"
    }
   ],
   "source": [
    "%time np.linalg.det(np.array(a2))*np.linalg.det(np.linalg.inv(np.array(a2)))"
   ]
  },
  {
   "cell_type": "code",
   "execution_count": 23,
   "metadata": {},
   "outputs": [
    {
     "data": {
      "text/plain": [
       "22.000000000000004"
      ]
     },
     "execution_count": 23,
     "metadata": {},
     "output_type": "execute_result"
    }
   ],
   "source": [
    "np.linalg.det(np.array(a))"
   ]
  },
  {
   "cell_type": "code",
   "execution_count": 24,
   "metadata": {},
   "outputs": [
    {
     "data": {
      "text/plain": [
       "0.04545454545454544"
      ]
     },
     "execution_count": 24,
     "metadata": {},
     "output_type": "execute_result"
    }
   ],
   "source": [
    "np.linalg.det(np.linalg.inv(np.array(a)))"
   ]
  },
  {
   "cell_type": "code",
   "execution_count": 25,
   "metadata": {},
   "outputs": [
    {
     "data": {
      "text/plain": [
       "0.045454545454545456"
      ]
     },
     "execution_count": 25,
     "metadata": {},
     "output_type": "execute_result"
    }
   ],
   "source": [
    "determinant_3_3(np.linalg.inv(np.array(a)))"
   ]
  },
  {
   "cell_type": "code",
   "execution_count": 26,
   "metadata": {},
   "outputs": [
    {
     "data": {
      "text/plain": [
       "-4.0"
      ]
     },
     "execution_count": 26,
     "metadata": {},
     "output_type": "execute_result"
    }
   ],
   "source": [
    "np.linalg.det(list(map(lambda x: x[:1+1], a[1:])))"
   ]
  },
  {
   "cell_type": "code",
   "execution_count": 27,
   "metadata": {},
   "outputs": [
    {
     "data": {
      "text/plain": [
       "-4"
      ]
     },
     "execution_count": 27,
     "metadata": {},
     "output_type": "execute_result"
    }
   ],
   "source": [
    "determinant_2_2(list(map(lambda x: x[:1+1], a[1:])))"
   ]
  },
  {
   "cell_type": "code",
   "execution_count": null,
   "metadata": {},
   "outputs": [],
   "source": []
  },
  {
   "cell_type": "code",
   "execution_count": 28,
   "metadata": {},
   "outputs": [],
   "source": [
    "import math"
   ]
  },
  {
   "cell_type": "markdown",
   "metadata": {},
   "source": [
    "## Rotation "
   ]
  },
  {
   "cell_type": "code",
   "execution_count": 29,
   "metadata": {},
   "outputs": [],
   "source": [
    "def get_rotation_matrix_2(angle: float) -> np.array:\n",
    "    b = [[] for _ in range(2)]\n",
    "    b[0] = [math.cos(angle), math.sin(angle)]\n",
    "    b[1] = [-math.sin(angle), math.cos(angle)]\n",
    "    return np.array(b)"
   ]
  },
  {
   "cell_type": "code",
   "execution_count": 30,
   "metadata": {},
   "outputs": [],
   "source": [
    "b = np.zeros((3, 3))"
   ]
  },
  {
   "cell_type": "code",
   "execution_count": 31,
   "metadata": {},
   "outputs": [],
   "source": [
    "b[0, 0] = 2\n",
    "b[2, 0] = 3\n",
    "b[0, 2] = 4\n",
    "b[2, 2] = 5"
   ]
  },
  {
   "cell_type": "code",
   "execution_count": 32,
   "metadata": {},
   "outputs": [
    {
     "data": {
      "text/plain": [
       "array([[2., 4.],\n",
       "       [3., 5.]])"
      ]
     },
     "execution_count": 32,
     "metadata": {},
     "output_type": "execute_result"
    }
   ],
   "source": [
    "b[::2, ::2]"
   ]
  },
  {
   "cell_type": "code",
   "execution_count": 33,
   "metadata": {},
   "outputs": [],
   "source": [
    "def get_rotation_matrix_3_x(angle: float) -> np.array:\n",
    "    b = np.zeros((3, 3))\n",
    "    b[0, 0] = 1\n",
    "    b[1:3, 1:3] = get_rotation_matrix_2(angle)\n",
    "    return b\n",
    "def get_rotation_matrix_3_y(angle: float) -> np.array:\n",
    "    b = np.zeros((3, 3))\n",
    "    b[1, 1] = 1\n",
    "    b[::-2, ::-2] = get_rotation_matrix_2(angle)\n",
    "    return b\n",
    "def get_rotation_matrix_3_z(angle: float) -> np.array:\n",
    "    b = np.zeros((3, 3))\n",
    "    b[2, 2] = 1\n",
    "    b[0:2, 0:2] = get_rotation_matrix_2(angle)\n",
    "    return b\n",
    "def get_rotation_matrix_3_xyz(x: float, y:  float, z: float) -> np.array:\n",
    "    return np.dot(np.dot(get_rotation_matrix_3_x(x), get_rotation_matrix_3_y(y)), get_rotation_matrix_3_z(z)) "
   ]
  },
  {
   "cell_type": "code",
   "execution_count": 34,
   "metadata": {},
   "outputs": [
    {
     "data": {
      "text/plain": [
       "array([[ 0.98008514, -0.13970775, -0.14112001],\n",
       "       [ 0.11999219,  0.98289553, -0.13970775],\n",
       "       [ 0.15822448,  0.11999219,  0.98008514]])"
      ]
     },
     "execution_count": 34,
     "metadata": {},
     "output_type": "execute_result"
    }
   ],
   "source": [
    "get_rotation_matrix_3_xyz(3, 3, 3)"
   ]
  },
  {
   "cell_type": "code",
   "execution_count": 35,
   "metadata": {},
   "outputs": [],
   "source": [
    "def dot(a: List[List], b: List[List]) -> List[List]:\n",
    "    c = [[0 for j in range(len(b[0]))] for i in range(len(a))]\n",
    "    for i in range(len(a)):\n",
    "        for j in range(len(b[0])):\n",
    "            for i2 in range(len(a[0])):\n",
    "                c[i][j] += a[i][i2]*b[i2][j]\n",
    "    return c\n",
    "def add(a: List[List], b: List[List]):\n",
    "    return [[a[i][ii] + b[i][ii] for ii in range(len(a[i]))] for i in range(len(a))]\n",
    "def diff(a: List[List], b: List[List]):\n",
    "    return [[a[i][ii] - b[i][ii] for ii in range(len(a[i]))] for i in range(len(a))]\n",
    "\n",
    "\n",
    "def rotate_points(points, angle, origin_point):\n",
    "    points_mat = transpose([[p[0]-origin_point[0], p[1]-origin_point[1]] for p in points])\n",
    "    points_out = transpose(dot(get_rotation_matrix(angle), points_mat))\n",
    "    print(np.array(points_out))\n",
    "#     return [[p[0]+origin_point[0], p[1]+origin_point[1]] for p in points_out]\n",
    "\n"
   ]
  },
  {
   "cell_type": "code",
   "execution_count": 36,
   "metadata": {},
   "outputs": [
    {
     "name": "stdout",
     "output_type": "stream",
     "text": [
      "[[-0.9  1.3  0. ]\n",
      " [ 1.8  2.  -0.5]\n",
      " [ 2.   1.2  0.5]\n",
      " [ 1.   3.   0.8]]\n",
      "\n",
      "[[ 0.99999746 -0.00159265 -0.00159265]\n",
      " [ 0.00159011  0.99999747 -0.00159265]\n",
      " [ 0.00159519  0.00159011  0.99999746]]\n",
      "[[ 0.99999746  0.00159011  0.00159519]\n",
      " [-0.00159265  0.99999747  0.00159011]\n",
      " [-0.00159265 -0.00159265  0.99999746]]\n",
      "\n",
      "[[-9.02068163e-01  1.29856560e+00  6.31481785e-04]\n",
      " [ 1.79760646e+00  2.00365347e+00 -4.93947169e-01]\n",
      " [ 1.99728742e+00  1.20238086e+00  5.05097240e-01]\n",
      " [ 9.93945388e-01  3.00030840e+00  8.06363499e-01]]\n"
     ]
    },
    {
     "data": {
      "text/plain": [
       "array([[-0.9,  1.3, -0. ],\n",
       "       [ 1.8,  2. , -0.5],\n",
       "       [ 2. ,  1.2,  0.5],\n",
       "       [ 1. ,  3. ,  0.8]])"
      ]
     },
     "execution_count": 36,
     "metadata": {},
     "output_type": "execute_result"
    }
   ],
   "source": [
    "x = 3.14; y = 3.14; z = 3.14\n",
    "points = np.array([[-0.9, 1.3, 0], [1.8, 2, -0.5], [2, 1.2, 0.5], [1, 3, 0.8]])\n",
    "print(points)\n",
    "print()\n",
    "rot_mat = get_rotation_matrix_3_xyz(x, y, z)\n",
    "rot_mat_inv = np.linalg.inv(rot_mat)\n",
    "print(rot_mat);print(rot_mat_inv)\n",
    "\n",
    "r = np.transpose(np.dot(rot_mat, np.transpose(points)))\n",
    "print()\n",
    "print(r)\n",
    "\n",
    "np.round(np.transpose(np.dot(rot_mat_inv, np.transpose(r))), 5)"
   ]
  },
  {
   "cell_type": "code",
   "execution_count": 37,
   "metadata": {},
   "outputs": [],
   "source": [
    "%matplotlib inline\n",
    "import matplotlib.pyplot as plt"
   ]
  },
  {
   "cell_type": "code",
   "execution_count": 38,
   "metadata": {},
   "outputs": [
    {
     "ename": "NameError",
     "evalue": "name 'get_rotation_matrix' is not defined",
     "output_type": "error",
     "traceback": [
      "\u001b[0;31m---------------------------------------------------------------------------\u001b[0m",
      "\u001b[0;31mNameError\u001b[0m                                 Traceback (most recent call last)",
      "\u001b[0;32m<ipython-input-38-bf3aac1113b5>\u001b[0m in \u001b[0;36m<module>\u001b[0;34m\u001b[0m\n\u001b[1;32m      4\u001b[0m \u001b[0mplt\u001b[0m\u001b[0;34m.\u001b[0m\u001b[0mplot\u001b[0m\u001b[0;34m(\u001b[0m\u001b[0mrot_p\u001b[0m\u001b[0;34m[\u001b[0m\u001b[0;36m0\u001b[0m\u001b[0;34m]\u001b[0m\u001b[0;34m,\u001b[0m \u001b[0mrot_p\u001b[0m\u001b[0;34m[\u001b[0m\u001b[0;36m1\u001b[0m\u001b[0;34m]\u001b[0m\u001b[0;34m,\u001b[0m \u001b[0;34m'o'\u001b[0m\u001b[0;34m)\u001b[0m\u001b[0;34m\u001b[0m\u001b[0;34m\u001b[0m\u001b[0m\n\u001b[1;32m      5\u001b[0m \u001b[0;32mfor\u001b[0m \u001b[0mi\u001b[0m \u001b[0;32min\u001b[0m \u001b[0;34m[\u001b[0m\u001b[0;36m0\u001b[0m\u001b[0;34m,\u001b[0m \u001b[0mmath\u001b[0m\u001b[0;34m.\u001b[0m\u001b[0mpi\u001b[0m\u001b[0;34m-\u001b[0m\u001b[0;36m4\u001b[0m\u001b[0;34m]\u001b[0m\u001b[0;34m:\u001b[0m\u001b[0;34m\u001b[0m\u001b[0;34m\u001b[0m\u001b[0m\n\u001b[0;32m----> 6\u001b[0;31m     \u001b[0mout\u001b[0m \u001b[0;34m=\u001b[0m \u001b[0mnp\u001b[0m\u001b[0;34m.\u001b[0m\u001b[0mround\u001b[0m\u001b[0;34m(\u001b[0m\u001b[0mnp\u001b[0m\u001b[0;34m.\u001b[0m\u001b[0marray\u001b[0m\u001b[0;34m(\u001b[0m\u001b[0mrotate_points\u001b[0m\u001b[0;34m(\u001b[0m\u001b[0;34m[\u001b[0m\u001b[0;34m[\u001b[0m\u001b[0;36m1\u001b[0m\u001b[0;34m,\u001b[0m \u001b[0;36m1\u001b[0m\u001b[0;34m]\u001b[0m\u001b[0;34m,\u001b[0m \u001b[0;34m[\u001b[0m\u001b[0;36m1\u001b[0m\u001b[0;34m,\u001b[0m \u001b[0;36m2\u001b[0m\u001b[0;34m]\u001b[0m\u001b[0;34m,\u001b[0m \u001b[0;34m[\u001b[0m\u001b[0;36m2\u001b[0m\u001b[0;34m,\u001b[0m \u001b[0;36m2\u001b[0m\u001b[0;34m]\u001b[0m\u001b[0;34m,\u001b[0m \u001b[0;34m[\u001b[0m\u001b[0;36m2\u001b[0m\u001b[0;34m,\u001b[0m \u001b[0;36m1\u001b[0m\u001b[0;34m]\u001b[0m\u001b[0;34m]\u001b[0m\u001b[0;34m,\u001b[0m \u001b[0mi\u001b[0m\u001b[0;34m,\u001b[0m \u001b[0mrot_p\u001b[0m\u001b[0;34m)\u001b[0m\u001b[0;34m)\u001b[0m\u001b[0;34m,\u001b[0m \u001b[0;36m6\u001b[0m\u001b[0;34m)\u001b[0m\u001b[0;34m\u001b[0m\u001b[0;34m\u001b[0m\u001b[0m\n\u001b[0m\u001b[1;32m      7\u001b[0m     \u001b[0mplt\u001b[0m\u001b[0;34m.\u001b[0m\u001b[0mplot\u001b[0m\u001b[0;34m(\u001b[0m\u001b[0mout\u001b[0m\u001b[0;34m[\u001b[0m\u001b[0;34m:\u001b[0m\u001b[0;34m,\u001b[0m \u001b[0;36m0\u001b[0m\u001b[0;34m]\u001b[0m\u001b[0;34m,\u001b[0m \u001b[0mout\u001b[0m\u001b[0;34m[\u001b[0m\u001b[0;34m:\u001b[0m\u001b[0;34m,\u001b[0m \u001b[0;36m1\u001b[0m\u001b[0;34m]\u001b[0m\u001b[0;34m,\u001b[0m \u001b[0;34m'o'\u001b[0m\u001b[0;34m)\u001b[0m\u001b[0;34m\u001b[0m\u001b[0;34m\u001b[0m\u001b[0m\n",
      "\u001b[0;32m<ipython-input-35-0f3c2a9612f9>\u001b[0m in \u001b[0;36mrotate_points\u001b[0;34m(points, angle, origin_point)\u001b[0m\n\u001b[1;32m     14\u001b[0m \u001b[0;32mdef\u001b[0m \u001b[0mrotate_points\u001b[0m\u001b[0;34m(\u001b[0m\u001b[0mpoints\u001b[0m\u001b[0;34m,\u001b[0m \u001b[0mangle\u001b[0m\u001b[0;34m,\u001b[0m \u001b[0morigin_point\u001b[0m\u001b[0;34m)\u001b[0m\u001b[0;34m:\u001b[0m\u001b[0;34m\u001b[0m\u001b[0;34m\u001b[0m\u001b[0m\n\u001b[1;32m     15\u001b[0m     \u001b[0mpoints_mat\u001b[0m \u001b[0;34m=\u001b[0m \u001b[0mtranspose\u001b[0m\u001b[0;34m(\u001b[0m\u001b[0;34m[\u001b[0m\u001b[0;34m[\u001b[0m\u001b[0mp\u001b[0m\u001b[0;34m[\u001b[0m\u001b[0;36m0\u001b[0m\u001b[0;34m]\u001b[0m\u001b[0;34m-\u001b[0m\u001b[0morigin_point\u001b[0m\u001b[0;34m[\u001b[0m\u001b[0;36m0\u001b[0m\u001b[0;34m]\u001b[0m\u001b[0;34m,\u001b[0m \u001b[0mp\u001b[0m\u001b[0;34m[\u001b[0m\u001b[0;36m1\u001b[0m\u001b[0;34m]\u001b[0m\u001b[0;34m-\u001b[0m\u001b[0morigin_point\u001b[0m\u001b[0;34m[\u001b[0m\u001b[0;36m1\u001b[0m\u001b[0;34m]\u001b[0m\u001b[0;34m]\u001b[0m \u001b[0;32mfor\u001b[0m \u001b[0mp\u001b[0m \u001b[0;32min\u001b[0m \u001b[0mpoints\u001b[0m\u001b[0;34m]\u001b[0m\u001b[0;34m)\u001b[0m\u001b[0;34m\u001b[0m\u001b[0;34m\u001b[0m\u001b[0m\n\u001b[0;32m---> 16\u001b[0;31m     \u001b[0mpoints_out\u001b[0m \u001b[0;34m=\u001b[0m \u001b[0mtranspose\u001b[0m\u001b[0;34m(\u001b[0m\u001b[0mdot\u001b[0m\u001b[0;34m(\u001b[0m\u001b[0mget_rotation_matrix\u001b[0m\u001b[0;34m(\u001b[0m\u001b[0mangle\u001b[0m\u001b[0;34m)\u001b[0m\u001b[0;34m,\u001b[0m \u001b[0mpoints_mat\u001b[0m\u001b[0;34m)\u001b[0m\u001b[0;34m)\u001b[0m\u001b[0;34m\u001b[0m\u001b[0;34m\u001b[0m\u001b[0m\n\u001b[0m\u001b[1;32m     17\u001b[0m     \u001b[0mprint\u001b[0m\u001b[0;34m(\u001b[0m\u001b[0mnp\u001b[0m\u001b[0;34m.\u001b[0m\u001b[0marray\u001b[0m\u001b[0;34m(\u001b[0m\u001b[0mpoints_out\u001b[0m\u001b[0;34m)\u001b[0m\u001b[0;34m)\u001b[0m\u001b[0;34m\u001b[0m\u001b[0;34m\u001b[0m\u001b[0m\n\u001b[1;32m     18\u001b[0m \u001b[0;31m#     return [[p[0]+origin_point[0], p[1]+origin_point[1]] for p in points_out]\u001b[0m\u001b[0;34m\u001b[0m\u001b[0;34m\u001b[0m\u001b[0;34m\u001b[0m\u001b[0m\n",
      "\u001b[0;31mNameError\u001b[0m: name 'get_rotation_matrix' is not defined"
     ]
    },
    {
     "data": {
      "image/png": "[encoded data removed]",
      "text/plain": [
       "<Figure size 432x288 with 1 Axes>"
      ]
     },
     "metadata": {
      "needs_background": "light"
     },
     "output_type": "display_data"
    }
   ],
   "source": [
    "i = 0\n",
    "rot_p = [0.2, 0.2]\n",
    "plt.plot([0], [0], 'o')\n",
    "plt.plot(rot_p[0], rot_p[1], 'o')\n",
    "for i in [0, math.pi-4]:\n",
    "    out = np.round(np.array(rotate_points([[1, 1], [1, 2], [2, 2], [2, 1]], i, rot_p)), 6)\n",
    "    plt.plot(out[:, 0], out[:, 1], 'o')"
   ]
  },
  {
   "cell_type": "markdown",
   "metadata": {},
   "source": [
    "## Homogeneous coordinates"
   ]
  },
  {
   "cell_type": "code",
   "execution_count": 39,
   "metadata": {},
   "outputs": [],
   "source": [
    "def euclidean_to_homogeneous(p_e: np.array) -> np.array:\n",
    "    if len(p_e.shape) > 1:\n",
    "        if p_e.shape[1] == 1:\n",
    "            return np.expand_dims(np.append(p_e, np.array([1])), 1)\n",
    "        else:\n",
    "            return np.array([np.append(p_e[0], 1)]).transpose()\n",
    "    else:\n",
    "        return np.append(p_e, 1)\n",
    "def homogeneous_to_euclidean(p_h: np.array) -> np.array:\n",
    "    return np.array(p_h[:-1]/p_h[-1][0])"
   ]
  },
  {
   "cell_type": "code",
   "execution_count": 40,
   "metadata": {},
   "outputs": [],
   "source": [
    "def transform_3d_xyz(x: float, y: float, z: float) -> np.array:\n",
    "    a = np.zeros((4, 4))\n",
    "    a[0, 3] = x\n",
    "    a[1, 3] = y\n",
    "    a[2, 3] = z\n",
    "    a[list(range(0, 4)), list(range(0, 4))] = 1\n",
    "    return a\n",
    "def transform_2d_xy(x: float, y: float) -> np.array:\n",
    "    a = np.zeros((3, 3))\n",
    "    a[0, 2] = x\n",
    "    a[1, 2] = y\n",
    "    a[list(range(0, 3)), list(range(0, 3))] = 1\n",
    "    return a"
   ]
  },
  {
   "cell_type": "code",
   "execution_count": 41,
   "metadata": {},
   "outputs": [
    {
     "data": {
      "text/plain": [
       "array([[1., 0., 2.],\n",
       "       [0., 1., 3.],\n",
       "       [0., 0., 1.]])"
      ]
     },
     "execution_count": 41,
     "metadata": {},
     "output_type": "execute_result"
    }
   ],
   "source": [
    "transform_3d_xyz(2, 3, 4)\n",
    "transform_2d_xy(2, 3)"
   ]
  },
  {
   "cell_type": "code",
   "execution_count": 42,
   "metadata": {},
   "outputs": [],
   "source": [
    "def rotate_2d(angle: float):\n",
    "    a = np.zeros((3, 3))\n",
    "    a[0:2, 0:2] = get_rotation_matrix_2(angle)\n",
    "    a[2, 2] = 1\n",
    "    return a\n",
    "def rotate_3d_xyz(x: float, y:  float, z: float):\n",
    "    a = np.zeros((4, 4))\n",
    "    a[0:3, 0:3] = get_rotation_matrix_3_xyz(x, y, z)\n",
    "    a[3, 3] = 1\n",
    "    return a"
   ]
  },
  {
   "cell_type": "code",
   "execution_count": 43,
   "metadata": {},
   "outputs": [
    {
     "data": {
      "text/plain": [
       "(array([[0., 0.]]), (1, 2))"
      ]
     },
     "execution_count": 43,
     "metadata": {},
     "output_type": "execute_result"
    }
   ],
   "source": [
    "a = np.zeros((1, 2))\n",
    "a, a.shape"
   ]
  },
  {
   "cell_type": "code",
   "execution_count": 44,
   "metadata": {},
   "outputs": [
    {
     "data": {
      "text/plain": [
       "array([2., 0., 2., 0.])"
      ]
     },
     "execution_count": 44,
     "metadata": {},
     "output_type": "execute_result"
    }
   ],
   "source": [
    "np.insert(a, (0, 1), 2)"
   ]
  },
  {
   "cell_type": "code",
   "execution_count": 45,
   "metadata": {},
   "outputs": [
    {
     "data": {
      "text/plain": [
       "array([[ 6.123234e-17,  1.000000e+00,  5.000000e+00],\n",
       "       [-1.000000e+00,  6.123234e-17, -6.000000e+00],\n",
       "       [ 0.000000e+00,  0.000000e+00,  1.000000e+00]])"
      ]
     },
     "execution_count": 45,
     "metadata": {},
     "output_type": "execute_result"
    }
   ],
   "source": [
    "np.dot(transform_2d_xy(5, -6), rotate_2d(math.pi/2))"
   ]
  },
  {
   "cell_type": "code",
   "execution_count": 46,
   "metadata": {
    "scrolled": true
   },
   "outputs": [
    {
     "name": "stdout",
     "output_type": "stream",
     "text": [
      "[[2]\n",
      " [3]\n",
      " [1]]\n",
      "\n",
      "transform\n",
      "[[ 0.97615862  0.21705839 -5.        ]\n",
      " [-0.21705839  0.97615862 -6.        ]\n",
      " [ 0.          0.          1.        ]]\n",
      "[[ 0.97615862 -0.21705839  3.57844278]\n",
      " [ 0.21705839  0.97615862  6.94224368]\n",
      " [ 0.          0.          1.        ]]\n",
      "\n",
      "[[-2.39650759]\n",
      " [-3.50564091]\n",
      " [ 1.        ]]\n",
      "\n",
      "[[2.]\n",
      " [3.]\n",
      " [1.]]\n"
     ]
    },
    {
     "data": {
      "text/plain": [
       "array([[-2.39650759],\n",
       "       [-3.50564091]])"
      ]
     },
     "execution_count": 46,
     "metadata": {},
     "output_type": "execute_result"
    }
   ],
   "source": [
    "p = np.array([[2, 3]])\n",
    "ph = euclidean_to_homogeneous(p)\n",
    "print(ph)\n",
    "print()\n",
    "transform = np.dot(transform_2d_xy(-5, -6), rotate_2d(0.2188))\n",
    "transform_inv = np.linalg.inv(transform)\n",
    "print(\"transform\", transform, transform_inv, sep=\"\\n\")\n",
    "print()\n",
    "\n",
    "pt = np.dot(transform, ph)\n",
    "print(pt)\n",
    "\n",
    "print()\n",
    "\n",
    "print(np.dot(transform_inv, pt))\n",
    "\n",
    "homogeneous_to_euclidean(pt)"
   ]
  },
  {
   "cell_type": "code",
   "execution_count": 47,
   "metadata": {},
   "outputs": [
    {
     "data": {
      "text/plain": [
       "array([[ 0.98616424,  0.16577122,  0.        ,  0.        ],\n",
       "       [-0.16577122,  0.98616424,  0.        ,  0.        ],\n",
       "       [ 0.        ,  0.        ,  1.        ,  0.        ],\n",
       "       [ 0.        ,  0.        ,  0.        ,  1.        ]])"
      ]
     },
     "execution_count": 47,
     "metadata": {},
     "output_type": "execute_result"
    }
   ],
   "source": [
    "rotate_3d_xyz(0, 0, 0.16654)"
   ]
  },
  {
   "cell_type": "code",
   "execution_count": 48,
   "metadata": {},
   "outputs": [],
   "source": [
    "def dot_list(a: List[np.array]) -> np.array:\n",
    "    ans = a[0]\n",
    "    for i in range(1, len(a)):\n",
    "        ans = np.dot(ans, a[i])\n",
    "    return ans"
   ]
  },
  {
   "cell_type": "code",
   "execution_count": 49,
   "metadata": {},
   "outputs": [
    {
     "name": "stdout",
     "output_type": "stream",
     "text": [
      "[[1. ]\n",
      " [1.8]\n",
      " [0. ]\n",
      " [1. ]]\n",
      "\n",
      "transform\n",
      "[[ 0.87758256  0.47942554  0.         -0.17850405]\n",
      " [-0.47942554  0.87758256  0.          0.30092149]\n",
      " [ 0.          0.          1.          0.        ]\n",
      " [ 0.          0.          0.          1.        ]]\n",
      "[[ 0.87758256 -0.47942554  0.          0.30092149]\n",
      " [ 0.47942554  0.87758256  0.         -0.17850405]\n",
      " [ 0.          0.          1.          0.        ]\n",
      " [ 0.          0.          0.          1.        ]]\n",
      "\n",
      "[[1.56204448]\n",
      " [1.40114456]\n",
      " [0.        ]\n",
      " [1.        ]]\n",
      "\n",
      "[[1. ]\n",
      " [1.8]\n",
      " [0. ]\n",
      " [1. ]]\n"
     ]
    },
    {
     "data": {
      "text/plain": [
       "array([[1.56204],\n",
       "       [1.40114],\n",
       "       [0.     ]])"
      ]
     },
     "execution_count": 49,
     "metadata": {},
     "output_type": "execute_result"
    }
   ],
   "source": [
    "p = np.array([[1, 1.8, 0]])\n",
    "ph = euclidean_to_homogeneous(p)\n",
    "print(ph)\n",
    "print()\n",
    "transform = dot_list([transform_3d_xyz(0.5, 0.5, 0), rotate_3d_xyz(0, 0, 0.5), transform_3d_xyz(-0.5, -0.5, 0)])\n",
    "transform_inv = np.linalg.inv(transform)\n",
    "print(\"transform\", transform, transform_inv, sep=\"\\n\")\n",
    "print()\n",
    "\n",
    "pt = np.dot(transform, ph)\n",
    "print(pt)\n",
    "\n",
    "print()\n",
    "\n",
    "print(np.dot(transform_inv, pt))\n",
    "\n",
    "np.round(homogeneous_to_euclidean(pt), 5)"
   ]
  },
  {
   "cell_type": "markdown",
   "metadata": {},
   "source": [
    "## Some experemetns with matrix and coordinates"
   ]
  },
  {
   "cell_type": "code",
   "execution_count": 318,
   "metadata": {},
   "outputs": [],
   "source": [
    "x, y = 0.1, 0.1"
   ]
  },
  {
   "cell_type": "code",
   "execution_count": 201,
   "metadata": {},
   "outputs": [
    {
     "data": {
      "text/plain": [
       "array([2, 3, 1])"
      ]
     },
     "execution_count": 201,
     "metadata": {},
     "output_type": "execute_result"
    }
   ],
   "source": [
    "to_camera_coords = "
   ]
  },
  {
   "cell_type": "code",
   "execution_count": 319,
   "metadata": {},
   "outputs": [
    {
     "data": {
      "text/plain": [
       "'\\npoint_in_image_coords = perspective_projection * transform_object_to_camera * point_on_object\\n\\npoint_on_image = something)))  * perspective_projection * transform_object_to_camera * point_on_object\\n\\n'"
      ]
     },
     "execution_count": 319,
     "metadata": {},
     "output_type": "execute_result"
    }
   ],
   "source": [
    "'''\n",
    "point_in_image_coords = perspective_projection * transform_object_to_camera * point_on_object\n",
    "\n",
    "point_on_image = something)))  * perspective_projection * transform_object_to_camera * point_on_object\n",
    "\n",
    "'''"
   ]
  },
  {
   "cell_type": "code",
   "execution_count": 321,
   "metadata": {},
   "outputs": [
    {
     "data": {
      "text/plain": [
       "'\\npoint_on_object = inv(perspective_projection * transform_object_to_camera) * point_in_image_coords\\n'"
      ]
     },
     "execution_count": 321,
     "metadata": {},
     "output_type": "execute_result"
    }
   ],
   "source": [
    "'''\n",
    "point_on_object = inv(perspective_projection * transform_object_to_camera) * point_in_image_coords\n",
    "'''"
   ]
  },
  {
   "cell_type": "code",
   "execution_count": null,
   "metadata": {},
   "outputs": [],
   "source": []
  }
 ],
 "metadata": {
  "kernelspec": {
   "display_name": "Python 3",
   "language": "python",
   "name": "python3"
  },
  "language_info": {
   "codemirror_mode": {
    "name": "ipython",
    "version": 3
   },
   "file_extension": ".py",
   "mimetype": "text/x-python",
   "name": "python",
   "nbconvert_exporter": "python",
   "pygments_lexer": "ipython3",
   "version": "3.8.5"
  }
 },
 "nbformat": 4,
 "nbformat_minor": 4
}
